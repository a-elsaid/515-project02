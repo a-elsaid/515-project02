{
 "cells": [
  {
   "cell_type": "code",
   "execution_count": 74,
   "metadata": {},
   "outputs": [
    {
     "name": "stdout",
     "output_type": "stream",
     "text": [
      "lynx -dump -source https://docs.python.org/3/library/subprocess.html\n",
      "17.5. subprocess — Subprocess management — Python 3.6.5 documentation\n",
      "text/html; charset=utf-8\n",
      "https://github.com/python/cpython/tree/3.6/Lib/subprocess.py\n",
      "https://en.wikipedia.org/wiki/Side-by-Side_Assembly\n",
      "https://en.wikipedia.org/wiki/Shell_injection#Shell_injection\n",
      "https://msdn.microsoft.com/en-us/library/ms686331(v=vs.85).aspx\n",
      "https://msdn.microsoft.com/en-us/library/ms633548(v=vs.85).aspx\n",
      "../_static/pydoctheme.css\n",
      "../_static/pygments.css\n",
      "../_static/opensearch.xml\n",
      "../about.html\n",
      "../genindex.html\n",
      "../search.html\n",
      "../copyright.html\n",
      "sched.html\n",
      "concurrent.futures.html\n",
      "../_static/py.png\n",
      "https://docs.python.org/3/library/subprocess.html\n"
     ]
    }
   ],
   "source": [
    "from bs4 import BeautifulSoup\n",
    "import os\n",
    "url = 'https://docs.python.org/3/library/subprocess.html'\n",
    "cmd = \"lynx -dump -source \" + url\n",
    "print cmd\n",
    "data = os.popen(cmd).read()\n",
    "\n",
    "parsed_html = BeautifulSoup(data, 'html.parser')\n",
    "print parsed_html.title.text\n",
    "\n",
    "for meta in parsed_html.find_all('meta'):\n",
    "    print meta.get('content')\n",
    "for link in parsed_html.find_all('a'):\n",
    "    cls = (link.get('class'))\n",
    "    if cls == [u'reference', u'external'] or cls==[u'target'] or cls==[u'']:\n",
    "        print link.get('href')\n",
    "for link in parsed_html.find_all('link'):\n",
    "    print link.get('href')"
   ]
  },
  {
   "cell_type": "code",
   "execution_count": 85,
   "metadata": {},
   "outputs": [
    {
     "name": "stdout",
     "output_type": "stream",
     "text": [
      "[u'http://sphinx.pocoo.org/']\n"
     ]
    }
   ],
   "source": [
    "import urllib\n",
    "url = 'https://docs.python.org/3/library/subprocess.html'\n",
    "html = urllib.urlopen(url).read()\n",
    "soup = BeautifulSoup(html, 'html.parser')\n",
    "links = []\n",
    "for link in soup.findAll('a', attrs={'href': re.compile(\"^http://\")}):\n",
    "    links.append(link.get('href'))\n",
    " \n",
    "print(links)\n",
    "    "
   ]
  },
  {
   "cell_type": "code",
   "execution_count": 132,
   "metadata": {
    "scrolled": true
   },
   "outputs": [
    {
     "name": "stdout",
     "output_type": "stream",
     "text": [
      "[0.196875 0.303125 0.303125 0.196875]\n",
      "[0.20816406 0.24667969 0.33699219 0.20816406]\n",
      "[0.22495654 0.25867432 0.2914126  0.22495654]\n"
     ]
    },
    {
     "data": {
      "text/plain": [
       "array([0.20915362, 0.27651633, 0.30517643, 0.20915362])"
      ]
     },
     "execution_count": 132,
     "metadata": {},
     "output_type": "execute_result"
    }
   ],
   "source": [
    "import numpy as np\n",
    "g = [[0.0375,  0.8875,  0.0375,  0.0375], [0.0375,  0.0375,  0.8875,  0.0375], [0.4625,  0.0375,  0.0375,  0.4625], [0.2500,  0.2500,  0.2500,  0.2500]]\n",
    "x1 = np.dot(np.array([.25,.25, .25, .25]).T, g)\n",
    "print x1\n",
    "x2 = np.dot(np.array(x1).T, g)\n",
    "print x2\n",
    "x3 = np.dot(np.array(x2).T, g)\n",
    "print x3\n",
    "np.dot(np.array(x3).T, g)"
   ]
  },
  {
   "cell_type": "code",
   "execution_count": 133,
   "metadata": {},
   "outputs": [],
   "source": [
    "import numpy as np"
   ]
  },
  {
   "cell_type": "code",
   "execution_count": 139,
   "metadata": {},
   "outputs": [
    {
     "data": {
      "text/plain": [
       "array([[1, 2],\n",
       "       [1, 2],\n",
       "       [1, 2],\n",
       "       [1, 2]])"
      ]
     },
     "execution_count": 139,
     "metadata": {},
     "output_type": "execute_result"
    }
   ],
   "source": [
    "np.concatenate(([[1,2]], [[1,2]] ,[[1,2]] ,[[1,2]]), axis=0)"
   ]
  },
  {
   "cell_type": "code",
   "execution_count": 140,
   "metadata": {},
   "outputs": [
    {
     "name": "stdout",
     "output_type": "stream",
     "text": [
      "/Users/obad/Dropbox/PhD_WORK/asc_demands/k_fold/10-fold/NARX\n"
     ]
    }
   ],
   "source": [
    "cd ~/Dropbox/PhD_WORK/asc_demands/k_fold/10-fold/NARX/"
   ]
  },
  {
   "cell_type": "raw",
   "metadata": {},
   "source": [
    "for i in range(10):\n",
    "    file = open('k' + str(i + '_4.1.3_.err', 'rb')\n",
    "    print file.read()"
   ]
  },
  {
   "cell_type": "code",
   "execution_count": null,
   "metadata": {},
   "outputs": [],
   "source": []
  },
  {
   "cell_type": "code",
   "execution_count": null,
   "metadata": {},
   "outputs": [],
   "source": []
  },
  {
   "cell_type": "code",
   "execution_count": null,
   "metadata": {},
   "outputs": [],
   "source": []
  },
  {
   "cell_type": "code",
   "execution_count": null,
   "metadata": {},
   "outputs": [],
   "source": []
  },
  {
   "cell_type": "code",
   "execution_count": null,
   "metadata": {},
   "outputs": [],
   "source": []
  },
  {
   "cell_type": "code",
   "execution_count": null,
   "metadata": {},
   "outputs": [],
   "source": []
  },
  {
   "cell_type": "code",
   "execution_count": null,
   "metadata": {},
   "outputs": [],
   "source": []
  },
  {
   "cell_type": "code",
   "execution_count": null,
   "metadata": {},
   "outputs": [],
   "source": []
  },
  {
   "cell_type": "code",
   "execution_count": null,
   "metadata": {},
   "outputs": [],
   "source": []
  },
  {
   "cell_type": "code",
   "execution_count": null,
   "metadata": {},
   "outputs": [],
   "source": []
  }
 ],
 "metadata": {
  "kernelspec": {
   "display_name": "Python 2",
   "language": "python",
   "name": "python2"
  },
  "language_info": {
   "codemirror_mode": {
    "name": "ipython",
    "version": 2
   },
   "file_extension": ".py",
   "mimetype": "text/x-python",
   "name": "python",
   "nbconvert_exporter": "python",
   "pygments_lexer": "ipython2",
   "version": "2.7.14"
  }
 },
 "nbformat": 4,
 "nbformat_minor": 2
}
